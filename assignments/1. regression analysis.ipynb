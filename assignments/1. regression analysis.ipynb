{
 "cells": [
  {
   "cell_type": "markdown",
   "id": "8f9095ef",
   "metadata": {},
   "source": [
    "## [데이터마이닝입문 과제4] 회귀 분석\n",
    "\n",
    "### Logistic Regression\n",
    "#### 데이터: Bank Data (기존의 KNN, LDA, QDA 포함 Regression Model 전반)"
   ]
  },
  {
   "cell_type": "markdown",
   "id": "00ca005c",
   "metadata": {},
   "source": [
    "---"
   ]
  },
  {
   "cell_type": "markdown",
   "id": "52aeb6ed",
   "metadata": {},
   "source": [
    "### 0) Logistic Regression이란?\n",
    "(이번 과제의 목적이 비교분석이기 때문에 설명하는 부분도 있으면 좋을 것 같음)\n",
    "<br>\n",
    "내가 정리해뒀던 Regression model 부분인데, 혹시 부연설명 필요하면 여기 참고해두 좋을듯:<br>\n",
    "https://zoeylaboratory.notion.site/Regression-Models-f672314973624d1fa1ffa6c970657a29"
   ]
  },
  {
   "cell_type": "markdown",
   "id": "2122972e",
   "metadata": {},
   "source": [
    "- 타겟 변수가 이진(0/1, 정기예금에 가입할 것이다, 아니다)로 나타나므로 로지스틱 회귀 모형 활용함.\n",
    "- 우리가 사용하는 방식은 로지스틱 회귀 모형 중에서도 여러 개의 예측변수를 고려하는 다중 로지스틱 회귀 모형임.\n",
    "- Model selection criteria forward, backward, stepwise 중에서 stepwise selection을 이용해서 타겟 변수 (정기예금 가입여부) 예측에 가장 무의미한 변수들을 제거하고 유의미한 변수들을 가지고 분석을 실행함. (Non Parititon: age, pdays, default, Partition: age, pdays, default, previous)\n",
    "- 모형 적합 (Fitting logistic model)에서 glm 함수 내에 family 파라미터를 binomial(link = \"logit\")으로 설정해줌. 이 의미는 logistic regression을 이용해서 적합하라는 의미임.\n",
    "- 모형 예측 (Predicting logistic model)에서는 cutoff 값을 0.5라는 임의의 값으로 설정함. 본래 cutoff는 prioir information (사전 정보): y가 0와 1 사이 비율에 대한 사전 정보, misclassification cost (오분류 비용): 1인데 0으로, 0인데 1로 오분류했을 때에 발생하는 비용, expert's opinion/domain knowledge으로 정해야 하지만 LDA/QDA에서 설정했던 0.5로 동일하게 설정해서 비교를 용이하게 함."
   ]
  },
  {
   "cell_type": "markdown",
   "id": "c734eee3",
   "metadata": {},
   "source": [
    "---"
   ]
  },
  {
   "cell_type": "markdown",
   "id": "62975b21",
   "metadata": {},
   "source": [
    "#### 아래 코드 순서:\n",
    "1. Bank data Preparation (PPT에서는 생략가능, 이미 앞서 설명한거 사용)\n",
    "2. Logistic Regression_No Parition ver.\n",
    "3. Logistic Regression_Parititon ver.\n",
    "4. CV\n",
    "5. Comparison with KNN, LDA, QDA"
   ]
  },
  {
   "cell_type": "markdown",
   "id": "2dfe5331",
   "metadata": {},
   "source": [
    "### 1) Bank data Preparation"
   ]
  },
  {
   "cell_type": "code",
   "execution_count": 1,
   "id": "3c946324",
   "metadata": {},
   "outputs": [
    {
     "name": "stdout",
     "output_type": "stream",
     "text": [
      "\n",
      "The downloaded binary packages are in\n",
      "\t/var/folders/f9/t309_fcx7k5bdf4cxgrn_cdh0000gn/T//RtmpKGoxWn/downloaded_packages\n"
     ]
    }
   ],
   "source": [
    "install.packages(\"class\")\n",
    "library(class)"
   ]
  },
  {
   "cell_type": "code",
   "execution_count": 2,
   "id": "d2553fd6",
   "metadata": {},
   "outputs": [
    {
     "data": {
      "text/html": [
       "<table class=\"dataframe\">\n",
       "<caption>A data.frame: 3 × 17</caption>\n",
       "<thead>\n",
       "\t<tr><th></th><th scope=col>age</th><th scope=col>job</th><th scope=col>marital</th><th scope=col>education</th><th scope=col>default</th><th scope=col>balance</th><th scope=col>housing</th><th scope=col>loan</th><th scope=col>contact</th><th scope=col>day</th><th scope=col>month</th><th scope=col>duration</th><th scope=col>campaign</th><th scope=col>pdays</th><th scope=col>previous</th><th scope=col>poutcome</th><th scope=col>y</th></tr>\n",
       "\t<tr><th></th><th scope=col>&lt;int&gt;</th><th scope=col>&lt;chr&gt;</th><th scope=col>&lt;chr&gt;</th><th scope=col>&lt;chr&gt;</th><th scope=col>&lt;chr&gt;</th><th scope=col>&lt;int&gt;</th><th scope=col>&lt;chr&gt;</th><th scope=col>&lt;chr&gt;</th><th scope=col>&lt;chr&gt;</th><th scope=col>&lt;int&gt;</th><th scope=col>&lt;chr&gt;</th><th scope=col>&lt;int&gt;</th><th scope=col>&lt;int&gt;</th><th scope=col>&lt;int&gt;</th><th scope=col>&lt;int&gt;</th><th scope=col>&lt;chr&gt;</th><th scope=col>&lt;chr&gt;</th></tr>\n",
       "</thead>\n",
       "<tbody>\n",
       "\t<tr><th scope=row>1</th><td>58</td><td> management  </td><td> married</td><td> tertiary </td><td> no</td><td>2143</td><td> yes</td><td> no </td><td> unknown</td><td>5</td><td> may</td><td>261</td><td>1</td><td>-1</td><td>0</td><td> unknown</td><td> no</td></tr>\n",
       "\t<tr><th scope=row>2</th><td>44</td><td> technician  </td><td> single </td><td> secondary</td><td> no</td><td>  29</td><td> yes</td><td> no </td><td> unknown</td><td>5</td><td> may</td><td>151</td><td>1</td><td>-1</td><td>0</td><td> unknown</td><td> no</td></tr>\n",
       "\t<tr><th scope=row>3</th><td>33</td><td> entrepreneur</td><td> married</td><td> secondary</td><td> no</td><td>   2</td><td> yes</td><td> yes</td><td> unknown</td><td>5</td><td> may</td><td> 76</td><td>1</td><td>-1</td><td>0</td><td> unknown</td><td> no</td></tr>\n",
       "</tbody>\n",
       "</table>\n"
      ],
      "text/latex": [
       "A data.frame: 3 × 17\n",
       "\\begin{tabular}{r|lllllllllllllllll}\n",
       "  & age & job & marital & education & default & balance & housing & loan & contact & day & month & duration & campaign & pdays & previous & poutcome & y\\\\\n",
       "  & <int> & <chr> & <chr> & <chr> & <chr> & <int> & <chr> & <chr> & <chr> & <int> & <chr> & <int> & <int> & <int> & <int> & <chr> & <chr>\\\\\n",
       "\\hline\n",
       "\t1 & 58 &  management   &  married &  tertiary  &  no & 2143 &  yes &  no  &  unknown & 5 &  may & 261 & 1 & -1 & 0 &  unknown &  no\\\\\n",
       "\t2 & 44 &  technician   &  single  &  secondary &  no &   29 &  yes &  no  &  unknown & 5 &  may & 151 & 1 & -1 & 0 &  unknown &  no\\\\\n",
       "\t3 & 33 &  entrepreneur &  married &  secondary &  no &    2 &  yes &  yes &  unknown & 5 &  may &  76 & 1 & -1 & 0 &  unknown &  no\\\\\n",
       "\\end{tabular}\n"
      ],
      "text/markdown": [
       "\n",
       "A data.frame: 3 × 17\n",
       "\n",
       "| <!--/--> | age &lt;int&gt; | job &lt;chr&gt; | marital &lt;chr&gt; | education &lt;chr&gt; | default &lt;chr&gt; | balance &lt;int&gt; | housing &lt;chr&gt; | loan &lt;chr&gt; | contact &lt;chr&gt; | day &lt;int&gt; | month &lt;chr&gt; | duration &lt;int&gt; | campaign &lt;int&gt; | pdays &lt;int&gt; | previous &lt;int&gt; | poutcome &lt;chr&gt; | y &lt;chr&gt; |\n",
       "|---|---|---|---|---|---|---|---|---|---|---|---|---|---|---|---|---|---|\n",
       "| 1 | 58 |  management   |  married |  tertiary  |  no | 2143 |  yes |  no  |  unknown | 5 |  may | 261 | 1 | -1 | 0 |  unknown |  no |\n",
       "| 2 | 44 |  technician   |  single  |  secondary |  no |   29 |  yes |  no  |  unknown | 5 |  may | 151 | 1 | -1 | 0 |  unknown |  no |\n",
       "| 3 | 33 |  entrepreneur |  married |  secondary |  no |    2 |  yes |  yes |  unknown | 5 |  may |  76 | 1 | -1 | 0 |  unknown |  no |\n",
       "\n"
      ],
      "text/plain": [
       "  age job           marital  education  default balance housing loan contact \n",
       "1 58   management    married  tertiary   no     2143     yes     no   unknown\n",
       "2 44   technician    single   secondary  no       29     yes     no   unknown\n",
       "3 33   entrepreneur  married  secondary  no        2     yes     yes  unknown\n",
       "  day month duration campaign pdays previous poutcome y  \n",
       "1 5    may  261      1        -1    0         unknown  no\n",
       "2 5    may  151      1        -1    0         unknown  no\n",
       "3 5    may   76      1        -1    0         unknown  no"
      ]
     },
     "metadata": {},
     "output_type": "display_data"
    }
   ],
   "source": [
    "bank = read.csv(\"bank_data.csv\",header=T)\n",
    "head(bank, 3)"
   ]
  },
  {
   "cell_type": "code",
   "execution_count": 3,
   "id": "f4e86fa1",
   "metadata": {},
   "outputs": [],
   "source": [
    "bank$y = ifelse(bank$y == \" yes\", 1, 0) # yes = 1, no = 0\n",
    "bank$y = factor(bank$y) # factor 자료형으로 변환"
   ]
  },
  {
   "cell_type": "code",
   "execution_count": 4,
   "id": "87a92fcd",
   "metadata": {},
   "outputs": [],
   "source": [
    "# target 변수 이외에도 deafult, loan, housing 변수 더미변환\n",
    "bank$default = ifelse(bank$default == \" yes\", 1, 0) # yes = 1, no = 0\n",
    "bank$loan = ifelse(bank$loan == \" yes\", 1, 0) # yes = 1, no = 0\n",
    "bank$housing = ifelse(bank$housing == \" yes\", 1, 0) # yes = 1, no = 0"
   ]
  },
  {
   "cell_type": "code",
   "execution_count": 6,
   "id": "dadbdac7",
   "metadata": {},
   "outputs": [
    {
     "name": "stdout",
     "output_type": "stream",
     "text": [
      "[1] 11\n"
     ]
    }
   ],
   "source": [
    "print(sum(is.na(bank))) # 총 11개의 결측치가 존재\n",
    "bank = na.omit(bank)"
   ]
  },
  {
   "cell_type": "code",
   "execution_count": 7,
   "id": "8eb9ad7c",
   "metadata": {},
   "outputs": [
    {
     "name": "stdout",
     "output_type": "stream",
     "text": [
      "[1] 0\n"
     ]
    }
   ],
   "source": [
    "print(sum(is.na(bank))) # 결측치가 제거된 모습"
   ]
  },
  {
   "cell_type": "markdown",
   "id": "e6d3d0f8",
   "metadata": {},
   "source": [
    "## NO PARTITION"
   ]
  },
  {
   "cell_type": "markdown",
   "id": "8ea24bf9",
   "metadata": {},
   "source": [
    "### 2) Model Fitting"
   ]
  },
  {
   "cell_type": "code",
   "execution_count": 8,
   "id": "937387cb",
   "metadata": {},
   "outputs": [
    {
     "data": {
      "text/plain": [
       "\n",
       "Call:\n",
       "glm(formula = y ~ ., family = binomial(link = \"logit\"), data = bank)\n",
       "\n",
       "Deviance Residuals: \n",
       "    Min       1Q   Median       3Q      Max  \n",
       "-5.7271  -0.3745  -0.2531  -0.1502   3.4296  \n",
       "\n",
       "Coefficients:\n",
       "                      Estimate Std. Error z value Pr(>|z|)    \n",
       "(Intercept)         -2.536e+00  1.837e-01 -13.804  < 2e-16 ***\n",
       "age                  1.246e-04  2.205e-03   0.056 0.954954    \n",
       "job blue-collar     -3.094e-01  7.267e-02  -4.258 2.07e-05 ***\n",
       "job entrepreneur    -3.569e-01  1.256e-01  -2.842 0.004478 ** \n",
       "job housemaid       -5.039e-01  1.365e-01  -3.692 0.000222 ***\n",
       "job management      -1.651e-01  7.329e-02  -2.253 0.024277 *  \n",
       "job retired          2.522e-01  9.722e-02   2.595 0.009469 ** \n",
       "job self-employed   -2.981e-01  1.120e-01  -2.661 0.007782 ** \n",
       "job services        -2.256e-01  8.412e-02  -2.681 0.007331 ** \n",
       "job student          3.826e-01  1.090e-01   3.509 0.000450 ***\n",
       "job technician      -1.757e-01  6.893e-02  -2.549 0.010791 *  \n",
       "job unemployed      -1.764e-01  1.116e-01  -1.580 0.114019    \n",
       "job unknown         -3.121e-01  2.335e-01  -1.336 0.181406    \n",
       "marital married     -1.795e-01  5.891e-02  -3.047 0.002311 ** \n",
       "marital single       9.205e-02  6.726e-02   1.369 0.171115    \n",
       "education secondary  1.833e-01  6.479e-02   2.830 0.004660 ** \n",
       "education tertiary   3.789e-01  7.531e-02   5.031 4.88e-07 ***\n",
       "education unknown    2.506e-01  1.039e-01   2.413 0.015840 *  \n",
       "default             -1.660e-02  1.628e-01  -0.102 0.918781    \n",
       "balance              1.278e-05  5.149e-06   2.482 0.013081 *  \n",
       "housing             -6.752e-01  4.387e-02 -15.390  < 2e-16 ***\n",
       "loan                -4.250e-01  5.999e-02  -7.085 1.39e-12 ***\n",
       "contact telephone   -1.636e-01  7.518e-02  -2.176 0.029587 *  \n",
       "contact unknown     -1.625e+00  7.322e-02 -22.190  < 2e-16 ***\n",
       "day                  1.000e-02  2.497e-03   4.005 6.20e-05 ***\n",
       "month aug           -6.939e-01  7.847e-02  -8.843  < 2e-16 ***\n",
       "month dec            6.912e-01  1.767e-01   3.913 9.13e-05 ***\n",
       "month feb           -1.470e-01  8.941e-02  -1.644 0.100122    \n",
       "month jan           -1.262e+00  1.217e-01 -10.369  < 2e-16 ***\n",
       "month jul           -8.306e-01  7.740e-02 -10.732  < 2e-16 ***\n",
       "month jun            4.548e-01  9.368e-02   4.855 1.20e-06 ***\n",
       "month mar            1.590e+00  1.198e-01  13.265  < 2e-16 ***\n",
       "month may           -3.992e-01  7.228e-02  -5.523 3.33e-08 ***\n",
       "month nov           -8.733e-01  8.440e-02 -10.347  < 2e-16 ***\n",
       "month oct            8.813e-01  1.080e-01   8.158 3.41e-16 ***\n",
       "month sep            8.741e-01  1.195e-01   7.315 2.57e-13 ***\n",
       "duration             4.192e-03  6.455e-05  64.936  < 2e-16 ***\n",
       "campaign            -9.082e-02  1.014e-02  -8.959  < 2e-16 ***\n",
       "pdays               -1.018e-04  3.061e-04  -0.333 0.739325    \n",
       "previous             1.015e-02  6.503e-03   1.561 0.118486    \n",
       "poutcome other       2.035e-01  8.985e-02   2.265 0.023485 *  \n",
       "poutcome success     2.291e+00  8.234e-02  27.821  < 2e-16 ***\n",
       "poutcome unknown    -9.155e-02  9.347e-02  -0.979 0.327341    \n",
       "---\n",
       "Signif. codes:  0 ‘***’ 0.001 ‘**’ 0.01 ‘*’ 0.05 ‘.’ 0.1 ‘ ’ 1\n",
       "\n",
       "(Dispersion parameter for binomial family taken to be 1)\n",
       "\n",
       "    Null deviance: 32620  on 45199  degrees of freedom\n",
       "Residual deviance: 21561  on 45157  degrees of freedom\n",
       "AIC: 21647\n",
       "\n",
       "Number of Fisher Scoring iterations: 6\n"
      ]
     },
     "metadata": {},
     "output_type": "display_data"
    }
   ],
   "source": [
    "fit = glm(y ~., data = bank, family = binomial(link = \"logit\")) # yes/no로 분리되어 있기 때문에 binomial, logit 사용\n",
    "summary(fit)\n",
    "# 대부분의 변수가 target 변수를 예측함에 있어서 유의미한 것으로 보임"
   ]
  },
  {
   "cell_type": "markdown",
   "id": "7fb414ed",
   "metadata": {},
   "source": [
    "#### Stepwise Selection\n",
    ": forward selection을 이용해서 유의미한 변수를 하나씩 넣다가, 모델에 어떤 영향을 주게 되면, 반응 변수와 크게 유의미하지 않은 부분은 제거하는 방법\n"
   ]
  },
  {
   "cell_type": "code",
   "execution_count": 9,
   "id": "8e6fb9eb",
   "metadata": {
    "scrolled": false
   },
   "outputs": [
    {
     "name": "stdout",
     "output_type": "stream",
     "text": [
      "Start:  AIC=21646.56\n",
      "y ~ age + job + marital + education + default + balance + housing + \n",
      "    loan + contact + day + month + duration + campaign + pdays + \n",
      "    previous + poutcome\n",
      "\n",
      "            Df Deviance   AIC\n",
      "- age        1    21561 21645\n",
      "- default    1    21561 21645\n",
      "- pdays      1    21561 21645\n",
      "<none>            21561 21647\n",
      "- previous   1    21563 21647\n",
      "- balance    1    21566 21650\n",
      "- day        1    21577 21661\n",
      "- education  3    21588 21668\n",
      "- marital    2    21599 21681\n",
      "- loan       1    21614 21698\n",
      "- job       11    21658 21722\n",
      "- campaign   1    21655 21739\n",
      "- housing    1    21802 21886\n",
      "- contact    2    22101 22183\n",
      "- month     11    22598 22662\n",
      "- poutcome   3    22727 22807\n",
      "- duration   1    27138 27222\n",
      "\n",
      "Step:  AIC=21644.56\n",
      "y ~ job + marital + education + default + balance + housing + \n",
      "    loan + contact + day + month + duration + campaign + pdays + \n",
      "    previous + poutcome\n",
      "\n",
      "            Df Deviance   AIC\n",
      "- default    1    21561 21643\n",
      "- pdays      1    21561 21643\n",
      "<none>            21561 21645\n",
      "- previous   1    21563 21645\n",
      "+ age        1    21561 21647\n",
      "- balance    1    21566 21648\n",
      "- day        1    21577 21659\n",
      "- education  3    21588 21666\n",
      "- marital    2    21604 21684\n",
      "- loan       1    21614 21696\n",
      "- job       11    21661 21723\n",
      "- campaign   1    21655 21737\n",
      "- housing    1    21805 21887\n",
      "- contact    2    22101 22181\n",
      "- month     11    22599 22661\n",
      "- poutcome   3    22728 22806\n",
      "- duration   1    27139 27221\n",
      "\n",
      "Step:  AIC=21642.57\n",
      "y ~ job + marital + education + balance + housing + loan + contact + \n",
      "    day + month + duration + campaign + pdays + previous + poutcome\n",
      "\n",
      "            Df Deviance   AIC\n",
      "- pdays      1    21561 21641\n",
      "<none>            21561 21643\n",
      "- previous   1    21563 21643\n",
      "+ default    1    21561 21645\n",
      "+ age        1    21561 21645\n",
      "- balance    1    21567 21647\n",
      "- day        1    21577 21657\n",
      "- education  3    21588 21664\n",
      "- marital    2    21604 21682\n",
      "- loan       1    21614 21694\n",
      "- job       11    21661 21721\n",
      "- campaign   1    21655 21735\n",
      "- housing    1    21805 21885\n",
      "- contact    2    22102 22180\n",
      "- month     11    22600 22660\n",
      "- poutcome   3    22728 22804\n",
      "- duration   1    27140 27220\n",
      "\n",
      "Step:  AIC=21640.68\n",
      "y ~ job + marital + education + balance + housing + loan + contact + \n",
      "    day + month + duration + campaign + previous + poutcome\n",
      "\n",
      "            Df Deviance   AIC\n",
      "<none>            21561 21641\n",
      "- previous   1    21563 21641\n",
      "+ pdays      1    21561 21643\n",
      "+ default    1    21561 21643\n",
      "+ age        1    21561 21643\n",
      "- balance    1    21567 21645\n",
      "- day        1    21577 21655\n",
      "- education  3    21588 21662\n",
      "- marital    2    21604 21680\n",
      "- loan       1    21614 21692\n",
      "- job       11    21662 21720\n",
      "- campaign   1    21656 21734\n",
      "- housing    1    21807 21885\n",
      "- contact    2    22102 22178\n",
      "- month     11    22600 22658\n",
      "- poutcome   3    22782 22856\n",
      "- duration   1    27140 27218\n"
     ]
    },
    {
     "data": {
      "text/html": [
       "<table class=\"dataframe\">\n",
       "<caption>A data.frame: 4 × 6</caption>\n",
       "<thead>\n",
       "\t<tr><th scope=col>Step</th><th scope=col>Df</th><th scope=col>Deviance</th><th scope=col>Resid. Df</th><th scope=col>Resid. Dev</th><th scope=col>AIC</th></tr>\n",
       "\t<tr><th scope=col>&lt;I&lt;chr&gt;&gt;</th><th scope=col>&lt;dbl&gt;</th><th scope=col>&lt;dbl&gt;</th><th scope=col>&lt;dbl&gt;</th><th scope=col>&lt;dbl&gt;</th><th scope=col>&lt;dbl&gt;</th></tr>\n",
       "</thead>\n",
       "<tbody>\n",
       "\t<tr><td>         </td><td>NA</td><td>         NA</td><td>45157</td><td>21560.56</td><td>21646.56</td></tr>\n",
       "\t<tr><td>- age    </td><td> 1</td><td>0.003190579</td><td>45158</td><td>21560.56</td><td>21644.56</td></tr>\n",
       "\t<tr><td>- default</td><td> 1</td><td>0.010462954</td><td>45159</td><td>21560.57</td><td>21642.57</td></tr>\n",
       "\t<tr><td>- pdays  </td><td> 1</td><td>0.111482712</td><td>45160</td><td>21560.68</td><td>21640.68</td></tr>\n",
       "</tbody>\n",
       "</table>\n"
      ],
      "text/latex": [
       "A data.frame: 4 × 6\n",
       "\\begin{tabular}{llllll}\n",
       " Step & Df & Deviance & Resid. Df & Resid. Dev & AIC\\\\\n",
       " <I<chr>> & <dbl> & <dbl> & <dbl> & <dbl> & <dbl>\\\\\n",
       "\\hline\n",
       "\t           & NA &          NA & 45157 & 21560.56 & 21646.56\\\\\n",
       "\t - age     &  1 & 0.003190579 & 45158 & 21560.56 & 21644.56\\\\\n",
       "\t - default &  1 & 0.010462954 & 45159 & 21560.57 & 21642.57\\\\\n",
       "\t - pdays   &  1 & 0.111482712 & 45160 & 21560.68 & 21640.68\\\\\n",
       "\\end{tabular}\n"
      ],
      "text/markdown": [
       "\n",
       "A data.frame: 4 × 6\n",
       "\n",
       "| Step &lt;I&lt;chr&gt;&gt; | Df &lt;dbl&gt; | Deviance &lt;dbl&gt; | Resid. Df &lt;dbl&gt; | Resid. Dev &lt;dbl&gt; | AIC &lt;dbl&gt; |\n",
       "|---|---|---|---|---|---|\n",
       "| <!----> | NA |          NA | 45157 | 21560.56 | 21646.56 |\n",
       "| - age     |  1 | 0.003190579 | 45158 | 21560.56 | 21644.56 |\n",
       "| - default |  1 | 0.010462954 | 45159 | 21560.57 | 21642.57 |\n",
       "| - pdays   |  1 | 0.111482712 | 45160 | 21560.68 | 21640.68 |\n",
       "\n"
      ],
      "text/plain": [
       "  Step      Df Deviance    Resid. Df Resid. Dev AIC     \n",
       "1           NA          NA 45157     21560.56   21646.56\n",
       "2 - age      1 0.003190579 45158     21560.56   21644.56\n",
       "3 - default  1 0.010462954 45159     21560.57   21642.57\n",
       "4 - pdays    1 0.111482712 45160     21560.68   21640.68"
      ]
     },
     "metadata": {},
     "output_type": "display_data"
    },
    {
     "data": {
      "text/plain": [
       "\n",
       "Call:\n",
       "glm(formula = y ~ job + marital + education + balance + housing + \n",
       "    loan + contact + day + month + duration + campaign + previous + \n",
       "    poutcome, family = binomial(link = \"logit\"), data = bank)\n",
       "\n",
       "Deviance Residuals: \n",
       "    Min       1Q   Median       3Q      Max  \n",
       "-5.7272  -0.3747  -0.2532  -0.1502   3.4308  \n",
       "\n",
       "Coefficients:\n",
       "                      Estimate Std. Error z value Pr(>|z|)    \n",
       "(Intercept)         -2.555e+00  1.311e-01 -19.489  < 2e-16 ***\n",
       "job blue-collar     -3.098e-01  7.263e-02  -4.266 1.99e-05 ***\n",
       "job entrepreneur    -3.571e-01  1.254e-01  -2.848 0.004400 ** \n",
       "job housemaid       -5.026e-01  1.360e-01  -3.695 0.000220 ***\n",
       "job management      -1.650e-01  7.324e-02  -2.254 0.024227 *  \n",
       "job retired          2.553e-01  8.739e-02   2.921 0.003489 ** \n",
       "job self-employed   -2.978e-01  1.120e-01  -2.660 0.007819 ** \n",
       "job services        -2.259e-01  8.411e-02  -2.686 0.007236 ** \n",
       "job student          3.822e-01  1.071e-01   3.570 0.000356 ***\n",
       "job technician      -1.755e-01  6.892e-02  -2.547 0.010877 *  \n",
       "job unemployed      -1.768e-01  1.116e-01  -1.584 0.113256    \n",
       "job unknown         -3.112e-01  2.332e-01  -1.334 0.182092    \n",
       "marital married     -1.792e-01  5.865e-02  -3.056 0.002243 ** \n",
       "marital single       9.114e-02  6.311e-02   1.444 0.148700    \n",
       "education secondary  1.830e-01  6.445e-02   2.839 0.004530 ** \n",
       "education tertiary   3.789e-01  7.472e-02   5.071 3.95e-07 ***\n",
       "education unknown    2.507e-01  1.039e-01   2.414 0.015793 *  \n",
       "balance              1.284e-05  5.128e-06   2.504 0.012290 *  \n",
       "housing             -6.766e-01  4.351e-02 -15.549  < 2e-16 ***\n",
       "loan                -4.256e-01  5.985e-02  -7.110 1.16e-12 ***\n",
       "contact telephone   -1.630e-01  7.432e-02  -2.193 0.028311 *  \n",
       "contact unknown     -1.624e+00  7.315e-02 -22.201  < 2e-16 ***\n",
       "day                  1.001e-02  2.497e-03   4.008 6.13e-05 ***\n",
       "month aug           -6.930e-01  7.838e-02  -8.842  < 2e-16 ***\n",
       "month dec            6.921e-01  1.767e-01   3.917 8.98e-05 ***\n",
       "month feb           -1.455e-01  8.929e-02  -1.630 0.103182    \n",
       "month jan           -1.261e+00  1.216e-01 -10.365  < 2e-16 ***\n",
       "month jul           -8.304e-01  7.734e-02 -10.737  < 2e-16 ***\n",
       "month jun            4.556e-01  9.365e-02   4.865 1.15e-06 ***\n",
       "month mar            1.591e+00  1.198e-01  13.279  < 2e-16 ***\n",
       "month may           -4.002e-01  7.222e-02  -5.541 3.01e-08 ***\n",
       "month nov           -8.705e-01  8.393e-02 -10.371  < 2e-16 ***\n",
       "month oct            8.827e-01  1.079e-01   8.182 2.79e-16 ***\n",
       "month sep            8.742e-01  1.195e-01   7.318 2.52e-13 ***\n",
       "duration             4.192e-03  6.455e-05  64.939  < 2e-16 ***\n",
       "campaign            -9.086e-02  1.014e-02  -8.963  < 2e-16 ***\n",
       "previous             1.022e-02  6.518e-03   1.567 0.117047    \n",
       "poutcome other       2.050e-01  8.970e-02   2.285 0.022294 *  \n",
       "poutcome success     2.298e+00  7.980e-02  28.795  < 2e-16 ***\n",
       "poutcome unknown    -6.799e-02  6.055e-02  -1.123 0.261461    \n",
       "---\n",
       "Signif. codes:  0 ‘***’ 0.001 ‘**’ 0.01 ‘*’ 0.05 ‘.’ 0.1 ‘ ’ 1\n",
       "\n",
       "(Dispersion parameter for binomial family taken to be 1)\n",
       "\n",
       "    Null deviance: 32620  on 45199  degrees of freedom\n",
       "Residual deviance: 21561  on 45160  degrees of freedom\n",
       "AIC: 21641\n",
       "\n",
       "Number of Fisher Scoring iterations: 6\n"
      ]
     },
     "metadata": {},
     "output_type": "display_data"
    }
   ],
   "source": [
    "# Model Selection criteria (direction=both로 지정함으로써 stepwise selection 사용함)\n",
    "# 만약 forward 사용하려면 direction=forward, backward 사용하려면 direction=backward로 지정\n",
    "fit2 = step(fit, direction = \"both\")\n",
    "fit2$anova\n",
    "summary(fit2)\n",
    "\n",
    "# stepwise selection을 이용해서 모델의 변수 선택을 한 결과, 가장 먼저 age, default(credit 소유 유무), pdays(이전 캠페인에서 마지막으로 고객에서 연락한 후 경과일수)가 빠지는 것을 볼 수 있다.\n",
    "# 3개의 변수는 타겟 변수 예측에 무의미함."
   ]
  },
  {
   "cell_type": "markdown",
   "id": "ec492fb9",
   "metadata": {},
   "source": [
    "### 3) Prediction"
   ]
  },
  {
   "cell_type": "code",
   "execution_count": 10,
   "id": "50d29cfc",
   "metadata": {},
   "outputs": [
    {
     "data": {
      "text/plain": [
       "      Predicted\n",
       "Actual     0     1\n",
       "     0 38932   981\n",
       "     1  3459  1828"
      ]
     },
     "metadata": {},
     "output_type": "display_data"
    }
   ],
   "source": [
    "fit2.pred = predict(fit2, newdata = bank, type = \"response\") \n",
    "\n",
    "cutoff = 0.5\n",
    "fit2.yhat = ifelse(fit2.pred <= cutoff, 0, 1)\n",
    "\n",
    "ctable = table(bank$y, fit2.yhat,  dnn = c(\"Actual\", \"Predicted\"))  \n",
    "ctable\n",
    "\n",
    "# prediction을 한 결과, 실제로 0인데 1이라고 예측한 경우(981건)보다 실제로 1인데 0이라고 잘못 예측한 경우(3459건)이 3배 가량 정도 많았음.\n",
    "# 이 prediction 결과는 앞서 진행했던 KNN, LDA, QDA 분석과 동일한 결과를 보임.\n",
    "# 데이터가 불균형 자료이기 때문에 (대부분이 0으로 이루어짐, KNN에서의 분포 참조) 0으로 예측하는 것으로 추정됨."
   ]
  },
  {
   "cell_type": "markdown",
   "id": "12ae4d7f",
   "metadata": {},
   "source": [
    "### 4) Evaluation\n",
    "Logistic Regression을 이용해서 예측한 결과, 오분류 비율: 0.0982, 정확도: 0.902, 민감도: 0.346, 특이도: 0.975를 보인다.<br>\n",
    "기존 LDA, QDA와 동일한 cutoff=0.5로 반영한 결과임.\n",
    "- KNN (NP)과의 비교: No Parition때 오분류 비율 0.085, 정확도 0.92, 민감도 0.46, 특이도 0.98로 오분류 비율과 민감도가 증가함.\n",
    "- KNN (P)과의 비교: Parition때 오분류 비율 0.12, 정확도 0.89, 민감도 0.29, 특이도 0.96로 오분류 비율가 낮아짐.\n",
    "- LDA (NP)와의 비교: No Parition때 오분류 비율 0.11, 정확도 0.88, 민감도 0.25, 특이도 0.97로 오분류 비율가 낮아짐.\n",
    "- LDA (P)와의 비교: Parition때 오분류 비율 0.11, 정확도 0.88, 민감도 0.25, 특이도 0.97로 오분류 비율가 낮아짐.\n",
    "- QDA (NP)와의 비교: No Parition때 오분류 비율 0.12, 정확도 0.87, 민감도 0.30, 특이도 0.95로 오분류 비율가 낮아짐.\n",
    "- QDA (P)와의 비교: Parition때 오분류 비율 0.12, 정확도 0.87, 민감도 0.29, 특이도 0.95로 오분류 비율가 낮아짐.\n",
    "<br>\n",
    "<br>\n",
    "여기서 비교하는건 우리가 PPT에 넣었던 표 다시 다 들고와서 비슷한 범위 내 값들을 보여준다고 보여주면 될듯.<br>\n",
    "Logistic Regression과 비교했을 때에 KNN No parition일 때의 정확도가 더 높은 것으로 보임."
   ]
  },
  {
   "cell_type": "code",
   "execution_count": 15,
   "id": "11a129f4",
   "metadata": {},
   "outputs": [
    {
     "data": {
      "text/html": [
       "0.0982300884955752"
      ],
      "text/latex": [
       "0.0982300884955752"
      ],
      "text/markdown": [
       "0.0982300884955752"
      ],
      "text/plain": [
       "[1] 0.09823009"
      ]
     },
     "metadata": {},
     "output_type": "display_data"
    },
    {
     "data": {
      "text/html": [
       "0.901769911504425"
      ],
      "text/latex": [
       "0.901769911504425"
      ],
      "text/markdown": [
       "0.901769911504425"
      ],
      "text/plain": [
       "[1] 0.9017699"
      ]
     },
     "metadata": {},
     "output_type": "display_data"
    },
    {
     "data": {
      "text/html": [
       "<strong>1:</strong> 0.345753735577832"
      ],
      "text/latex": [
       "\\textbf{1:} 0.345753735577832"
      ],
      "text/markdown": [
       "**1:** 0.345753735577832"
      ],
      "text/plain": [
       "        1 \n",
       "0.3457537 "
      ]
     },
     "metadata": {},
     "output_type": "display_data"
    },
    {
     "data": {
      "text/html": [
       "<strong>0:</strong> 0.975421541853531"
      ],
      "text/latex": [
       "\\textbf{0:} 0.975421541853531"
      ],
      "text/markdown": [
       "**0:** 0.975421541853531"
      ],
      "text/plain": [
       "        0 \n",
       "0.9754215 "
      ]
     },
     "metadata": {},
     "output_type": "display_data"
    }
   ],
   "source": [
    "miss.err = 1-sum(diag(ctable))/sum(ctable) # Misclassification Rate\n",
    "miss.err\n",
    "\n",
    "pred.acc = 1 - miss.err # Prediction Accuracy\n",
    "pred.acc  \n",
    "\n",
    "diag(ctable)[2]/apply(ctable, 1, sum)[2] # Sensitivity\n",
    "diag(ctable)[1]/apply(ctable, 1, sum)[1] # Specificity"
   ]
  },
  {
   "cell_type": "markdown",
   "id": "74bc6800",
   "metadata": {},
   "source": [
    "### 6) AUC/ROC Curve"
   ]
  },
  {
   "cell_type": "code",
   "execution_count": 16,
   "id": "baec1a4e",
   "metadata": {},
   "outputs": [
    {
     "name": "stderr",
     "output_type": "stream",
     "text": [
      "also installing the dependencies ‘bitops’, ‘gtools’, ‘caTools’, ‘gplots’\n",
      "\n",
      "\n"
     ]
    },
    {
     "name": "stdout",
     "output_type": "stream",
     "text": [
      "\n",
      "The downloaded binary packages are in\n",
      "\t/var/folders/f9/t309_fcx7k5bdf4cxgrn_cdh0000gn/T//RtmpKGoxWn/downloaded_packages\n"
     ]
    }
   ],
   "source": [
    "install.packages(\"ROCR\")\n",
    "library(ROCR)"
   ]
  },
  {
   "cell_type": "code",
   "execution_count": 17,
   "id": "4aa159c3",
   "metadata": {},
   "outputs": [
    {
     "data": {
      "text/html": [
       "<ol>\n",
       "\t<li>0.907877788151753</li>\n",
       "</ol>\n"
      ],
      "text/latex": [
       "\\begin{enumerate}\n",
       "\\item 0.907877788151753\n",
       "\\end{enumerate}\n"
      ],
      "text/markdown": [
       "1. 0.907877788151753\n",
       "\n",
       "\n"
      ],
      "text/plain": [
       "[[1]]\n",
       "[1] 0.9078778\n"
      ]
     },
     "metadata": {},
     "output_type": "display_data"
    },
    {
     "data": {
      "image/png": "[encoded data removed]",
      "text/plain": [
       "Plot with title “ROC Curve”"
      ]
     },
     "metadata": {
      "image/png": {
       "height": 420,
       "width": 420
      }
     },
     "output_type": "display_data"
    }
   ],
   "source": [
    "fit.pred = predict(fit, newdata =  bank, type = \"response\") \n",
    "pred = prediction(fit.pred, bank$y)\n",
    "\n",
    "perf = performance(pred, \"tpr\",\"fpr\")\n",
    "plot(perf, col = 4, lwd = 2, xlab = \"1-Specificity\", ylab = \"Sensitivity\", main = \"ROC Curve\") # ROC\n",
    "lines(x = c(0,1), y = c(0,1), col = 2, lty = 2, lwd = 2)\n",
    "legend(0.6, 0.3, legend = c(\"Regression\",\"Random\"), col = c(4,2), lty = c(1,2), lwd = 2)\n",
    "performance(pred, \"auc\")@y.values # AUC\n",
    "\n",
    "# ROC값: 0.907\n",
    "# AUC curve 관찰시 random prediction보다 확연히 좋은 성능을 보임 (LDA, QDA에서의 값보다 더 높게 책정됨)"
   ]
  },
  {
   "cell_type": "markdown",
   "id": "2cdaf277",
   "metadata": {},
   "source": [
    "## PARTITION"
   ]
  },
  {
   "cell_type": "markdown",
   "id": "a05f2027",
   "metadata": {},
   "source": [
    "### 7) Data Partitioning"
   ]
  },
  {
   "cell_type": "code",
   "execution_count": 18,
   "id": "60aacd8f",
   "metadata": {},
   "outputs": [],
   "source": [
    "set.seed(123)\n",
    "V = 2\n",
    "n =  NROW(bank)  # number of rows\n",
    "id = sample(1:V, n, prob = c(0.7,0.3), replace = T) # Partitioning 7:3\n",
    "ii = which(id==1)\n",
    "bank.train = bank[ ii,]\n",
    "bank.test  = bank[-ii,]"
   ]
  },
  {
   "cell_type": "markdown",
   "id": "ffbce15e",
   "metadata": {},
   "source": [
    "### 8) Model Fitting"
   ]
  },
  {
   "cell_type": "code",
   "execution_count": 20,
   "id": "6c7ad1b7",
   "metadata": {},
   "outputs": [
    {
     "data": {
      "text/plain": [
       "\n",
       "Call:\n",
       "glm(formula = y ~ ., family = binomial(link = \"logit\"), data = bank.train)\n",
       "\n",
       "Deviance Residuals: \n",
       "    Min       1Q   Median       3Q      Max  \n",
       "-5.6686  -0.3771  -0.2510  -0.1468   3.4022  \n",
       "\n",
       "Coefficients:\n",
       "                      Estimate Std. Error z value Pr(>|z|)    \n",
       "(Intercept)         -2.382e+00  2.183e-01 -10.915  < 2e-16 ***\n",
       "age                 -2.165e-03  2.642e-03  -0.819 0.412569    \n",
       "job blue-collar     -4.104e-01  8.761e-02  -4.684 2.81e-06 ***\n",
       "job entrepreneur    -3.785e-01  1.504e-01  -2.516 0.011877 *  \n",
       "job housemaid       -6.982e-01  1.719e-01  -4.062 4.86e-05 ***\n",
       "job management      -1.313e-01  8.642e-02  -1.520 0.128540    \n",
       "job retired          2.862e-01  1.163e-01   2.461 0.013871 *  \n",
       "job self-employed   -1.828e-01  1.305e-01  -1.401 0.161353    \n",
       "job services        -2.203e-01  1.002e-01  -2.198 0.027927 *  \n",
       "job student          4.264e-01  1.289e-01   3.309 0.000937 ***\n",
       "job technician      -1.081e-01  8.131e-02  -1.329 0.183752    \n",
       "job unemployed      -1.142e-01  1.325e-01  -0.861 0.388969    \n",
       "job unknown         -6.210e-01  3.065e-01  -2.026 0.042747 *  \n",
       "marital married     -1.714e-01  7.067e-02  -2.426 0.015278 *  \n",
       "marital single       8.798e-02  8.058e-02   1.092 0.274901    \n",
       "education secondary  1.032e-01  7.777e-02   1.327 0.184557    \n",
       "education tertiary   3.120e-01  8.989e-02   3.472 0.000517 ***\n",
       "education unknown    1.522e-01  1.255e-01   1.213 0.225186    \n",
       "default              5.125e-02  1.850e-01   0.277 0.781774    \n",
       "balance              9.780e-06  6.149e-06   1.590 0.111736    \n",
       "housing             -6.585e-01  5.219e-02 -12.617  < 2e-16 ***\n",
       "loan                -4.168e-01  7.078e-02  -5.888 3.90e-09 ***\n",
       "contact telephone   -2.419e-01  9.131e-02  -2.649 0.008078 ** \n",
       "contact unknown     -1.635e+00  8.842e-02 -18.495  < 2e-16 ***\n",
       "day                  9.205e-03  2.960e-03   3.109 0.001876 ** \n",
       "month aug           -6.640e-01  9.243e-02  -7.184 6.77e-13 ***\n",
       "month dec            7.370e-01  2.121e-01   3.475 0.000510 ***\n",
       "month feb           -1.481e-01  1.051e-01  -1.410 0.158640    \n",
       "month jan           -1.247e+00  1.443e-01  -8.640  < 2e-16 ***\n",
       "month jul           -8.125e-01  9.118e-02  -8.911  < 2e-16 ***\n",
       "month jun            4.702e-01  1.111e-01   4.231 2.33e-05 ***\n",
       "month mar            1.589e+00  1.386e-01  11.465  < 2e-16 ***\n",
       "month may           -4.570e-01  8.558e-02  -5.340 9.30e-08 ***\n",
       "month nov           -9.407e-01  1.004e-01  -9.370  < 2e-16 ***\n",
       "month oct            9.548e-01  1.278e-01   7.470 8.00e-14 ***\n",
       "month sep            7.081e-01  1.443e-01   4.909 9.18e-07 ***\n",
       "duration             4.142e-03  7.636e-05  54.245  < 2e-16 ***\n",
       "campaign            -9.464e-02  1.205e-02  -7.852 4.09e-15 ***\n",
       "pdays                1.753e-05  3.655e-04   0.048 0.961741    \n",
       "previous             9.028e-03  6.607e-03   1.366 0.171824    \n",
       "poutcome other       1.944e-01  1.067e-01   1.823 0.068372 .  \n",
       "poutcome success     2.347e+00  9.774e-02  24.013  < 2e-16 ***\n",
       "poutcome unknown    -4.864e-02  1.106e-01  -0.440 0.660066    \n",
       "---\n",
       "Signif. codes:  0 ‘***’ 0.001 ‘**’ 0.01 ‘*’ 0.05 ‘.’ 0.1 ‘ ’ 1\n",
       "\n",
       "(Dispersion parameter for binomial family taken to be 1)\n",
       "\n",
       "    Null deviance: 23048  on 31848  degrees of freedom\n",
       "Residual deviance: 15188  on 31806  degrees of freedom\n",
       "AIC: 15274\n",
       "\n",
       "Number of Fisher Scoring iterations: 6\n"
      ]
     },
     "metadata": {},
     "output_type": "display_data"
    }
   ],
   "source": [
    "fit = glm(y ~., data = bank.train, family = binomial(link = \"logit\"))\n",
    "summary(fit)"
   ]
  },
  {
   "cell_type": "code",
   "execution_count": 22,
   "id": "63fea2b8",
   "metadata": {
    "scrolled": false
   },
   "outputs": [
    {
     "name": "stdout",
     "output_type": "stream",
     "text": [
      "Start:  AIC=15273.71\n",
      "y ~ age + job + marital + education + default + balance + housing + \n",
      "    loan + contact + day + month + duration + campaign + pdays + \n",
      "    previous + poutcome\n",
      "\n",
      "            Df Deviance   AIC\n",
      "- pdays      1    15188 15272\n",
      "- default    1    15188 15272\n",
      "- age        1    15188 15272\n",
      "- previous   1    15190 15274\n",
      "<none>            15188 15274\n",
      "- balance    1    15190 15274\n",
      "- day        1    15197 15281\n",
      "- education  3    15203 15283\n",
      "- marital    2    15212 15294\n",
      "- loan       1    15224 15308\n",
      "- campaign   1    15261 15345\n",
      "- job       11    15284 15348\n",
      "- housing    1    15350 15434\n",
      "- contact    2    15565 15647\n",
      "- month     11    15937 16001\n",
      "- poutcome   3    16060 16140\n",
      "- duration   1    19065 19149\n",
      "\n",
      "Step:  AIC=15271.71\n",
      "y ~ age + job + marital + education + default + balance + housing + \n",
      "    loan + contact + day + month + duration + campaign + previous + \n",
      "    poutcome\n",
      "\n",
      "            Df Deviance   AIC\n",
      "- default    1    15188 15270\n",
      "- age        1    15188 15270\n",
      "- previous   1    15190 15272\n",
      "<none>            15188 15272\n",
      "- balance    1    15190 15272\n",
      "+ pdays      1    15188 15274\n",
      "- day        1    15197 15279\n",
      "- education  3    15203 15281\n",
      "- marital    2    15212 15292\n",
      "- loan       1    15224 15306\n",
      "- campaign   1    15261 15343\n",
      "- job       11    15284 15346\n",
      "- housing    1    15351 15433\n",
      "- contact    2    15566 15646\n",
      "- month     11    15938 16000\n",
      "- poutcome   3    16102 16180\n",
      "- duration   1    19065 19147\n",
      "\n",
      "Step:  AIC=15269.79\n",
      "y ~ age + job + marital + education + balance + housing + loan + \n",
      "    contact + day + month + duration + campaign + previous + \n",
      "    poutcome\n",
      "\n",
      "            Df Deviance   AIC\n",
      "- age        1    15188 15268\n",
      "- previous   1    15190 15270\n",
      "<none>            15188 15270\n",
      "- balance    1    15190 15270\n",
      "+ default    1    15188 15272\n",
      "+ pdays      1    15188 15272\n",
      "- day        1    15198 15278\n",
      "- education  3    15204 15280\n",
      "- marital    2    15213 15291\n",
      "- loan       1    15224 15304\n",
      "- campaign   1    15261 15341\n",
      "- job       11    15284 15344\n",
      "- housing    1    15351 15431\n",
      "- contact    2    15566 15644\n",
      "- month     11    15938 15998\n",
      "- poutcome   3    16102 16178\n",
      "- duration   1    19065 19145\n",
      "\n",
      "Step:  AIC=15268.46\n",
      "y ~ job + marital + education + balance + housing + loan + contact + \n",
      "    day + month + duration + campaign + previous + poutcome\n",
      "\n",
      "            Df Deviance   AIC\n",
      "- previous   1    15190 15268\n",
      "<none>            15188 15268\n",
      "- balance    1    15191 15269\n",
      "+ age        1    15188 15270\n",
      "+ default    1    15188 15270\n",
      "+ pdays      1    15188 15270\n",
      "- day        1    15198 15276\n",
      "- education  3    15205 15279\n",
      "- marital    2    15220 15296\n",
      "- loan       1    15225 15303\n",
      "- campaign   1    15261 15339\n",
      "- job       11    15284 15342\n",
      "- housing    1    15351 15429\n",
      "- contact    2    15568 15644\n",
      "- month     11    15938 15996\n",
      "- poutcome   3    16102 16176\n",
      "- duration   1    19065 19143\n",
      "\n",
      "Step:  AIC=15268.35\n",
      "y ~ job + marital + education + balance + housing + loan + contact + \n",
      "    day + month + duration + campaign + poutcome\n",
      "\n",
      "            Df Deviance   AIC\n",
      "<none>            15190 15268\n",
      "+ previous   1    15188 15268\n",
      "- balance    1    15193 15269\n",
      "+ age        1    15190 15270\n",
      "+ default    1    15190 15270\n",
      "+ pdays      1    15190 15270\n",
      "- day        1    15200 15276\n",
      "- education  3    15207 15279\n",
      "- marital    2    15222 15296\n",
      "- loan       1    15227 15303\n",
      "- campaign   1    15263 15339\n",
      "- job       11    15286 15342\n",
      "- housing    1    15353 15429\n",
      "- contact    2    15570 15644\n",
      "- month     11    15940 15996\n",
      "- poutcome   3    16189 16261\n",
      "- duration   1    19067 19143\n"
     ]
    },
    {
     "data": {
      "text/html": [
       "<table class=\"dataframe\">\n",
       "<caption>A data.frame: 5 × 6</caption>\n",
       "<thead>\n",
       "\t<tr><th scope=col>Step</th><th scope=col>Df</th><th scope=col>Deviance</th><th scope=col>Resid. Df</th><th scope=col>Resid. Dev</th><th scope=col>AIC</th></tr>\n",
       "\t<tr><th scope=col>&lt;I&lt;chr&gt;&gt;</th><th scope=col>&lt;dbl&gt;</th><th scope=col>&lt;dbl&gt;</th><th scope=col>&lt;dbl&gt;</th><th scope=col>&lt;dbl&gt;</th><th scope=col>&lt;dbl&gt;</th></tr>\n",
       "</thead>\n",
       "<tbody>\n",
       "\t<tr><td>          </td><td>NA</td><td>         NA</td><td>31806</td><td>15187.71</td><td>15273.71</td></tr>\n",
       "\t<tr><td>- pdays   </td><td> 1</td><td>0.002300537</td><td>31807</td><td>15187.71</td><td>15271.71</td></tr>\n",
       "\t<tr><td>- default </td><td> 1</td><td>0.076127022</td><td>31808</td><td>15187.79</td><td>15269.79</td></tr>\n",
       "\t<tr><td>- age     </td><td> 1</td><td>0.671499160</td><td>31809</td><td>15188.46</td><td>15268.46</td></tr>\n",
       "\t<tr><td>- previous</td><td> 1</td><td>1.892399070</td><td>31810</td><td>15190.35</td><td>15268.35</td></tr>\n",
       "</tbody>\n",
       "</table>\n"
      ],
      "text/latex": [
       "A data.frame: 5 × 6\n",
       "\\begin{tabular}{llllll}\n",
       " Step & Df & Deviance & Resid. Df & Resid. Dev & AIC\\\\\n",
       " <I<chr>> & <dbl> & <dbl> & <dbl> & <dbl> & <dbl>\\\\\n",
       "\\hline\n",
       "\t            & NA &          NA & 31806 & 15187.71 & 15273.71\\\\\n",
       "\t - pdays    &  1 & 0.002300537 & 31807 & 15187.71 & 15271.71\\\\\n",
       "\t - default  &  1 & 0.076127022 & 31808 & 15187.79 & 15269.79\\\\\n",
       "\t - age      &  1 & 0.671499160 & 31809 & 15188.46 & 15268.46\\\\\n",
       "\t - previous &  1 & 1.892399070 & 31810 & 15190.35 & 15268.35\\\\\n",
       "\\end{tabular}\n"
      ],
      "text/markdown": [
       "\n",
       "A data.frame: 5 × 6\n",
       "\n",
       "| Step &lt;I&lt;chr&gt;&gt; | Df &lt;dbl&gt; | Deviance &lt;dbl&gt; | Resid. Df &lt;dbl&gt; | Resid. Dev &lt;dbl&gt; | AIC &lt;dbl&gt; |\n",
       "|---|---|---|---|---|---|\n",
       "| <!----> | NA |          NA | 31806 | 15187.71 | 15273.71 |\n",
       "| - pdays    |  1 | 0.002300537 | 31807 | 15187.71 | 15271.71 |\n",
       "| - default  |  1 | 0.076127022 | 31808 | 15187.79 | 15269.79 |\n",
       "| - age      |  1 | 0.671499160 | 31809 | 15188.46 | 15268.46 |\n",
       "| - previous |  1 | 1.892399070 | 31810 | 15190.35 | 15268.35 |\n",
       "\n"
      ],
      "text/plain": [
       "  Step       Df Deviance    Resid. Df Resid. Dev AIC     \n",
       "1            NA          NA 31806     15187.71   15273.71\n",
       "2 - pdays     1 0.002300537 31807     15187.71   15271.71\n",
       "3 - default   1 0.076127022 31808     15187.79   15269.79\n",
       "4 - age       1 0.671499160 31809     15188.46   15268.46\n",
       "5 - previous  1 1.892399070 31810     15190.35   15268.35"
      ]
     },
     "metadata": {},
     "output_type": "display_data"
    },
    {
     "data": {
      "text/plain": [
       "\n",
       "Call:\n",
       "glm(formula = y ~ job + marital + education + balance + housing + \n",
       "    loan + contact + day + month + duration + campaign + poutcome, \n",
       "    family = binomial(link = \"logit\"), data = bank.train)\n",
       "\n",
       "Deviance Residuals: \n",
       "    Min       1Q   Median       3Q      Max  \n",
       "-5.6735  -0.3772  -0.2513  -0.1469   3.3992  \n",
       "\n",
       "Coefficients:\n",
       "                      Estimate Std. Error z value Pr(>|z|)    \n",
       "(Intercept)         -2.456e+00  1.550e-01 -15.844  < 2e-16 ***\n",
       "job blue-collar     -4.095e-01  8.752e-02  -4.679 2.88e-06 ***\n",
       "job entrepreneur    -3.837e-01  1.502e-01  -2.554 0.010657 *  \n",
       "job housemaid       -7.114e-01  1.714e-01  -4.151 3.30e-05 ***\n",
       "job management      -1.336e-01  8.626e-02  -1.549 0.121473    \n",
       "job retired          2.430e-01  1.043e-01   2.329 0.019846 *  \n",
       "job self-employed   -1.844e-01  1.305e-01  -1.413 0.157622    \n",
       "job services        -2.201e-01  1.002e-01  -2.197 0.028036 *  \n",
       "job student          4.468e-01  1.265e-01   3.533 0.000410 ***\n",
       "job technician      -1.082e-01  8.128e-02  -1.332 0.182914    \n",
       "job unemployed      -1.176e-01  1.325e-01  -0.888 0.374656    \n",
       "job unknown         -6.354e-01  3.063e-01  -2.075 0.038026 *  \n",
       "marital married     -1.662e-01  7.035e-02  -2.362 0.018174 *  \n",
       "marital single       1.105e-01  7.550e-02   1.464 0.143307    \n",
       "education secondary  1.088e-01  7.741e-02   1.405 0.160058    \n",
       "education tertiary   3.205e-01  8.917e-02   3.595 0.000325 ***\n",
       "education unknown    1.507e-01  1.255e-01   1.201 0.229646    \n",
       "balance              9.333e-06  6.133e-06   1.522 0.128107    \n",
       "housing             -6.527e-01  5.172e-02 -12.620  < 2e-16 ***\n",
       "loan                -4.137e-01  7.060e-02  -5.860 4.64e-09 ***\n",
       "contact telephone   -2.517e-01  9.036e-02  -2.785 0.005347 ** \n",
       "contact unknown     -1.637e+00  8.831e-02 -18.533  < 2e-16 ***\n",
       "day                  9.128e-03  2.959e-03   3.084 0.002040 ** \n",
       "month aug           -6.648e-01  9.233e-02  -7.200 6.03e-13 ***\n",
       "month dec            7.380e-01  2.120e-01   3.482 0.000498 ***\n",
       "month feb           -1.460e-01  1.049e-01  -1.392 0.164071    \n",
       "month jan           -1.243e+00  1.443e-01  -8.618  < 2e-16 ***\n",
       "month jul           -8.094e-01  9.107e-02  -8.887  < 2e-16 ***\n",
       "month jun            4.714e-01  1.111e-01   4.243 2.20e-05 ***\n",
       "month mar            1.588e+00  1.385e-01  11.462  < 2e-16 ***\n",
       "month may           -4.549e-01  8.550e-02  -5.320 1.04e-07 ***\n",
       "month nov           -9.415e-01  9.981e-02  -9.433  < 2e-16 ***\n",
       "month oct            9.533e-01  1.276e-01   7.471 7.93e-14 ***\n",
       "month sep            7.075e-01  1.442e-01   4.905 9.33e-07 ***\n",
       "duration             4.142e-03  7.635e-05  54.248  < 2e-16 ***\n",
       "campaign            -9.420e-02  1.204e-02  -7.823 5.16e-15 ***\n",
       "poutcome other       2.064e-01  1.062e-01   1.944 0.051884 .  \n",
       "poutcome success     2.346e+00  9.461e-02  24.802  < 2e-16 ***\n",
       "poutcome unknown    -7.707e-02  6.850e-02  -1.125 0.260562    \n",
       "---\n",
       "Signif. codes:  0 ‘***’ 0.001 ‘**’ 0.01 ‘*’ 0.05 ‘.’ 0.1 ‘ ’ 1\n",
       "\n",
       "(Dispersion parameter for binomial family taken to be 1)\n",
       "\n",
       "    Null deviance: 23048  on 31848  degrees of freedom\n",
       "Residual deviance: 15190  on 31810  degrees of freedom\n",
       "AIC: 15268\n",
       "\n",
       "Number of Fisher Scoring iterations: 6\n"
      ]
     },
     "metadata": {},
     "output_type": "display_data"
    }
   ],
   "source": [
    "# Stepwise model selection\n",
    "fit2 = step(fit, direction = \"both\")\n",
    "fit2$anova\n",
    "summary(fit2)\n",
    "\n",
    "# No parititon 때와 비교했을 때 (No partition에서는 age, default, pdays 순차적으로 제거됨) pdays - default - age - previous 순으로 무의미한 변수 제거됨.\n",
    "# pdays, default, age는 동일하게 제거되지만 partition을 함으로써 previous 변수도 제거됨"
   ]
  },
  {
   "cell_type": "markdown",
   "id": "d4f0abdd",
   "metadata": {},
   "source": [
    "### 9) Prediction"
   ]
  },
  {
   "cell_type": "code",
   "execution_count": 24,
   "id": "d41f460c",
   "metadata": {},
   "outputs": [
    {
     "data": {
      "text/plain": [
       "      Predicted\n",
       "Actual     0     1\n",
       "     0 11531   274\n",
       "     1  1037   509"
      ]
     },
     "metadata": {},
     "output_type": "display_data"
    }
   ],
   "source": [
    "fit2.pred = predict(fit2, newdata =  bank.test, type = \"response\") \n",
    "\n",
    "cutoff = 0.5\n",
    "fit2.yhat = ifelse(fit2.pred <= cutoff, 0, 1)\n",
    "\n",
    "ctable = table(bank.test$y, fit2.yhat,  dnn = c(\"Actual\", \"Predicted\")) \n",
    "ctable\n",
    "\n",
    "# 실제로 0인데 1로 예측한 개수가 실제로 1인데 0으로 예측한 개수보다 3배 차이남 (No Partition때와 비슷한 양상)"
   ]
  },
  {
   "cell_type": "markdown",
   "id": "06496c85",
   "metadata": {},
   "source": [
    "### 10) Evaluation"
   ]
  },
  {
   "cell_type": "code",
   "execution_count": 25,
   "id": "32a094f0",
   "metadata": {},
   "outputs": [
    {
     "data": {
      "text/html": [
       "0.0981948917684069"
      ],
      "text/latex": [
       "0.0981948917684069"
      ],
      "text/markdown": [
       "0.0981948917684069"
      ],
      "text/plain": [
       "[1] 0.09819489"
      ]
     },
     "metadata": {},
     "output_type": "display_data"
    },
    {
     "data": {
      "text/html": [
       "0.901805108231593"
      ],
      "text/latex": [
       "0.901805108231593"
      ],
      "text/markdown": [
       "0.901805108231593"
      ],
      "text/plain": [
       "[1] 0.9018051"
      ]
     },
     "metadata": {},
     "output_type": "display_data"
    },
    {
     "data": {
      "text/html": [
       "<strong>1:</strong> 0.329236739974127"
      ],
      "text/latex": [
       "\\textbf{1:} 0.329236739974127"
      ],
      "text/markdown": [
       "**1:** 0.329236739974127"
      ],
      "text/plain": [
       "        1 \n",
       "0.3292367 "
      ]
     },
     "metadata": {},
     "output_type": "display_data"
    },
    {
     "data": {
      "text/html": [
       "<strong>0:</strong> 0.976789495976281"
      ],
      "text/latex": [
       "\\textbf{0:} 0.976789495976281"
      ],
      "text/markdown": [
       "**0:** 0.976789495976281"
      ],
      "text/plain": [
       "        0 \n",
       "0.9767895 "
      ]
     },
     "metadata": {},
     "output_type": "display_data"
    }
   ],
   "source": [
    "miss.err = 1-sum(diag(ctable))/sum(ctable) # Misclassification Rate\n",
    "miss.err\n",
    "\n",
    "pred.acc = 1 - miss.err #Prediction Accuracy\n",
    "pred.acc  \n",
    "\n",
    "diag(ctable)[2]/apply(ctable, 1, sum)[2] # Sensitivity\n",
    "diag(ctable)[1]/apply(ctable, 1, sum)[1] # Specificity \n",
    "\n",
    "# No partition 때와 비교했을 때(Logistic No Parition=오분류 비율: 0.0982, 정확도: 0.902, 민감도: 0.346, 특이도: 0.975),\n",
    "# 오분류 비율, 정확도와 특이도는 거의 동일하지만 민감도는 살짝 감소한 것을 볼 수 있음\n",
    "# 민감도: 실제로 정기예금에 가입한 사람 중 정기예금에 가입했다고 예측하는 비율인데 data를 partition하면서 더 적은 train 데이터로 예측하기 때문에 감소한 것으로 보임."
   ]
  },
  {
   "cell_type": "code",
   "execution_count": 34,
   "id": "2921c18e",
   "metadata": {},
   "outputs": [
    {
     "data": {
      "text/html": [
       "<ol>\n",
       "\t<li>0.907357164808958</li>\n",
       "</ol>\n"
      ],
      "text/latex": [
       "\\begin{enumerate}\n",
       "\\item 0.907357164808958\n",
       "\\end{enumerate}\n"
      ],
      "text/markdown": [
       "1. 0.907357164808958\n",
       "\n",
       "\n"
      ],
      "text/plain": [
       "[[1]]\n",
       "[1] 0.9073572\n"
      ]
     },
     "metadata": {},
     "output_type": "display_data"
    },
    {
     "data": {
      "image/png": "[encoded data removed]",
      "text/plain": [
       "Plot with title “ROC Curve (Train)”"
      ]
     },
     "metadata": {
      "image/png": {
       "height": 420,
       "width": 420
      }
     },
     "output_type": "display_data"
    }
   ],
   "source": [
    "library(ROCR)\n",
    "\n",
    "# Train data ROC, AUC\n",
    "fit.pred = predict(fit, newdata = bank.train, type = \"response\") \n",
    "pred = prediction(fit.pred, bank.train$y)\n",
    "\n",
    "perf = performance(pred, \"tpr\",\"fpr\")\n",
    "plot(perf, col = 4, lwd = 2, xlab = \"1-Specificity\", ylab = \"Sensitivity\", main = \"ROC Curve (Train)\") #ROC\n",
    "lines(x = c(0,1), y = c(0,1), col = 2, lty = 2, lwd = 2)\n",
    "legend(0.5, 0.3, legend = c(\"Train Regression\",\"Random\"), col = c(4,2), lty = c(1,2), lwd = 2)\n",
    "\n",
    "performance(pred, \"auc\")@y.values #AUC"
   ]
  },
  {
   "cell_type": "code",
   "execution_count": 35,
   "id": "ce93d794",
   "metadata": {},
   "outputs": [
    {
     "data": {
      "text/html": [
       "<ol>\n",
       "\t<li>0.904827640621845</li>\n",
       "</ol>\n"
      ],
      "text/latex": [
       "\\begin{enumerate}\n",
       "\\item 0.904827640621845\n",
       "\\end{enumerate}\n"
      ],
      "text/markdown": [
       "1. 0.904827640621845\n",
       "\n",
       "\n"
      ],
      "text/plain": [
       "[[1]]\n",
       "[1] 0.9048276\n"
      ]
     },
     "metadata": {},
     "output_type": "display_data"
    },
    {
     "data": {
      "image/png": "[encoded data removed]",
      "text/plain": [
       "Plot with title “ROC Curve (Test)”"
      ]
     },
     "metadata": {
      "image/png": {
       "height": 420,
       "width": 420
      }
     },
     "output_type": "display_data"
    }
   ],
   "source": [
    "# Test data ROC, AUC\n",
    "fit.pred = predict(fit, newdata = bank.test, type = \"response\") \n",
    "pred = prediction(fit.pred, bank.test$y)\n",
    "\n",
    "perf = performance(pred, \"tpr\",\"fpr\")\n",
    "plot(perf, col = 4, lwd = 2, xlab = \"1-Specificity\", ylab = \"Sensitivity\", main = \"ROC Curve (Test)\") #ROC\n",
    "lines(x = c(0,1), y = c(0,1), col = 2, lty = 2, lwd = 2)\n",
    "legend(0.5, 0.3, legend = c(\"Test Regression\",\"Random\"), col = c(4,2), lty = c(1,2), lwd = 2)\n",
    "\n",
    "performance(pred, \"auc\")@y.values #AUC\n",
    "\n",
    "# No Partition 때의 ROC값이었던 0.907보다 살짝 감소하지만, \n",
    "# Train AUC와 Test AUC가 비슷하게 나타나는 것으로 보아 overfitting이 발생하지 않고 있다는 것을 알 수 있음."
   ]
  },
  {
   "cell_type": "markdown",
   "id": "972f8320",
   "metadata": {},
   "source": [
    "## CV ERROR"
   ]
  },
  {
   "cell_type": "markdown",
   "id": "b08d4db8",
   "metadata": {},
   "source": [
    "### 11) 10-fold CV test Error"
   ]
  },
  {
   "cell_type": "code",
   "execution_count": 36,
   "id": "d4f6faa7",
   "metadata": {},
   "outputs": [
    {
     "name": "stdout",
     "output_type": "stream",
     "text": [
      "[1] 1\n",
      "[1] 2\n",
      "[1] 3\n",
      "[1] 4\n",
      "[1] 5\n",
      "[1] 6\n",
      "[1] 7\n",
      "[1] 8\n",
      "[1] 9\n",
      "[1] 10\n"
     ]
    },
    {
     "data": {
      "text/html": [
       "0.0986605205680046"
      ],
      "text/latex": [
       "0.0986605205680046"
      ],
      "text/markdown": [
       "0.0986605205680046"
      ],
      "text/plain": [
       "[1] 0.09866052"
      ]
     },
     "metadata": {},
     "output_type": "display_data"
    }
   ],
   "source": [
    "cutoff = 0.5\n",
    "\n",
    "V = 10 # V-fold CV\n",
    "miss.err.train = 0\n",
    "miss.err.test = 0\n",
    "\n",
    "set.seed(1234)\n",
    "id = sample(1:V, nrow(bank), replace = T)\n",
    "\n",
    "for(i in 1:V) {\n",
    "  \n",
    "  print(i)\n",
    "\n",
    "  # Data Partitioning \n",
    "  bank.train = bank[id != i,] \n",
    "  bank.test  = bank[id == i,] \n",
    "  \n",
    "  # Fitting\n",
    "  fit = glm(y ~ ., data = bank.train, family = binomial(link = \"logit\"))\n",
    "  fit2 = step(fit, direction=\"both\", trace=FALSE) #Stepwise variable selection\n",
    "  \n",
    "  # Predicting and Evaluating\n",
    "  pred.test = predict(fit2, newdata=bank.test, type=\"response\")\n",
    "  yhat.test = ifelse(pred.test<= cutoff, 0, 1)\n",
    "  miss.err.test = miss.err.test + mean(bank.test$y != yhat.test)\n",
    "  \n",
    "}\n",
    "\n",
    "cv.err.test = miss.err.test/V; cv.err.test # CV test error\n",
    "\n",
    "# 10-fold cv test error을 얻은 결과, 오분류 비율이 0.099으로 앞서 No partition(0.098), Train/test partition(0.098) 때와 비슷한 값을 얻을 수 있다."
   ]
  },
  {
   "cell_type": "markdown",
   "id": "6b94b487",
   "metadata": {},
   "source": [
    "## COMPARISON\n",
    "##### KNN, LDA, QDA와 비교했을 때 Logistic Regression의 위치는?\n",
    "#### 정의적인 비교\n",
    "- Regression: 로지스틱 회귀 모형에서는 예측한 값과 cutoff 값의 대소관계를 비교해서 0인지 1인지 예측함.\n",
    "- KNN: 새로운 관측치의 특성을 가장 근접해 있는 k개의 관측치들의 평균값을 이용해 예측함. KNN은 근접한 이웃들의 값에 의존해서 새로운 관측치의 특성을 예측하게 됨.\n",
    "- LDA: 직접적으로 P(Y=k|X=x) 를 구했던 로지스틱 회귀와는 다르게, LDA에서는 각각의 Y가 주어졌을때의 X의 분포, 즉 P(X|Y)를 통하여 ‘Bayes’ theorem’으로 P(Y=k|X=x)의 사후확률을 추정하고자 한다. 이 때 X의 분포, P(X|Y) 에 정규가정이 생긴다면, 로지스틱 회귀와 매우 유사한 형태가 된다.로지스틱 회귀 대신에 LDA를 사용하는 이유는 다음 3가지이다: 2개 이상의 범주가 있을 시 성능이 더 뛰어남, 범주가 명확하게 구분되어 있을 경우, 로지스틱 회귀는 굉장히 불안정한 결과를 낸다(계수가 쉽게 변동한다). 반면에 LDA는 그렇지 않음. 자료의 개수가 적을때에도 각 클래스에 대한 X의 분포가 정규분포와 유사하다면,  로지스틱 회귀보다 안정적인 성능을 보임.\n",
    "\n",
    "- QDA: LDA에서 공분산이 같지 않다는 가정만 추가한 기법."
   ]
  },
  {
   "cell_type": "markdown",
   "id": "98d287a3",
   "metadata": {},
   "source": [
    "#### LDA VS. Logistic\n",
    "로지스틱은 계수를 maximum likelihood로, LDA는 정규가정하에서 mean 과 variance의 추정으로 계수를 구하였기에, 이 둘의 계수 자체가 일치하지는 않지만, 선형 decision boundary를 만들어 낸다는 점에서 둘은 유사한 관계를 갖는다.\n",
    "#### KNN VS. Logistic\n",
    "KNN은 가장 가까운 k개의 관측치를 보고 그들의 특성에 따라 분류를 하는 것으로, 비모수적 방법이라고 볼 수 있다. 따라서 실제 decision boundary가 non-linear일 때 좋은 성능을 보일 수 있다. 그러나 어떤 변수가 중요했는지 등에 대한 해석력은 잃게 된다.\n",
    "#### QDA VS. Logistic\n",
    "QDA는 KNN과 LDA, 로지스틱회귀를 합친 특성을 가지고 있다. 이는 KNN보다는 flexible하지 않지만 decision boundary에 non-linear가정을 하였기에 LDA보다 flexible하고, 분포를 가정하였기에 KNN과 다르게 비교적 적은 데이터에서도 잘 적합할 수 있다."
   ]
  },
  {
   "cell_type": "markdown",
   "id": "dcf96993",
   "metadata": {},
   "source": [
    "결론적으로 Bank data에 대해서는 KNN, LDA, QDA, Logistic Regression No Partition/Partition 모두 비슷한 정확도/오분류 비율을 가짐. 좀 특징적인거라고 하면:\n",
    "- Partition보다 No Partition에서 정확도가 조금씩 더 높음.\n",
    "- Logistic Regression을 이용해서 ROC와 AUC를 시각화한 결과, 기존의 기법들에 비해 높은 값을 보임.\n",
    "- Logistic Regression Partition에서 train AUC, test AUC 비슷함. overfitting 발생하지 않는 것으로 보임."
   ]
  }
 ],
 "metadata": {
  "kernelspec": {
   "display_name": "R",
   "language": "R",
   "name": "ir"
  },
  "language_info": {
   "codemirror_mode": "r",
   "file_extension": ".r",
   "mimetype": "text/x-r-source",
   "name": "R",
   "pygments_lexer": "r",
   "version": "4.1.0"
  }
 },
 "nbformat": 4,
 "nbformat_minor": 5
}
